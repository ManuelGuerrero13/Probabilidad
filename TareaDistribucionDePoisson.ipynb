{
  "nbformat": 4,
  "nbformat_minor": 0,
  "metadata": {
    "colab": {
      "provenance": [],
      "authorship_tag": "ABX9TyO//rHUiivAjAGYAXsSEpBK",
      "include_colab_link": true
    },
    "kernelspec": {
      "name": "python3",
      "display_name": "Python 3"
    },
    "language_info": {
      "name": "python"
    }
  },
  "cells": [
    {
      "cell_type": "markdown",
      "metadata": {
        "id": "view-in-github",
        "colab_type": "text"
      },
      "source": [
        "<a href=\"https://colab.research.google.com/github/ManuelGuerrero13/Probabilidad/blob/main/TareaDistribucionDePoisson.ipynb\" target=\"_parent\"><img src=\"https://colab.research.google.com/assets/colab-badge.svg\" alt=\"Open In Colab\"/></a>"
      ]
    },
    {
      "cell_type": "code",
      "execution_count": null,
      "metadata": {
        "id": "sj5lDlHzJfUx"
      },
      "outputs": [],
      "source": []
    },
    {
      "cell_type": "markdown",
      "source": [
        "# Probabilidad y estadistica\n",
        "##Distribucion binominal y de poisson\n",
        "\n",
        "###Problema 1\n",
        "\n",
        "Realizar un programa en Python que resuelva el sig. problema\n",
        "\n",
        " * El numero x de personas ingresadas a\n",
        "  una unidad de cuidados intensivos en un hospital particular, en un dia, tiene una distribucion de la probabilidad de Poisson con media igual a 5 personas por dia.\n",
        "\n",
        "\n",
        "*   ¿Cual es la probabilidad de que el numero de personas ingresadas a una unidad de cuidados intensivos en un dia particular sea de dos?\n",
        "*   ¿es probable que x exceda de 10?Explicar\n",
        "\n",
        "\n",
        "\n",
        "\n",
        "  \n",
        "  "
      ],
      "metadata": {
        "id": "LNcp45a2KeTM"
      }
    },
    {
      "cell_type": "code",
      "source": [
        "from scipy.stats import poisson\n",
        "\n",
        "#Parametros de la distribucion de poisson\n",
        "mediaIngresados = 5\n",
        "\n",
        "# Parte 1: Probabilidad de que el numero de ingresados sea de 2\n",
        "probabilidad2Ingresados = poisson.pmf(2,mediaIngresados)\n",
        "\n",
        "print(\"Cual es la probabilidad de que el numero de personas ingresadas a una unidad de cuidados intensivos en un dia particular sea de dos?\")\n",
        "print(probabilidad2Ingresados)\n",
        "\n",
        "# Parte 2: Probabilidad de que el numero de ingresados sea de 10 o mas\n",
        "probabilidad10Ingresados = poisson.pmf(10,mediaIngresados)\n",
        "\n",
        "print(\"Cual es la probabilidad de que el numero de personas ingresadas a una unidad de cuidados intensivos en un dia particular sea de 10?\")\n",
        "print(probabilidad10Ingresados)\n"
      ],
      "metadata": {
        "colab": {
          "base_uri": "https://localhost:8080/"
        },
        "id": "_UpF2_-uLkYh",
        "outputId": "d6225ac7-0e64-4f03-d62a-d9d7deefa6cb"
      },
      "execution_count": 4,
      "outputs": [
        {
          "output_type": "stream",
          "name": "stdout",
          "text": [
            "Cual es la probabilidad de que el numero de personas ingresadas a una unidad de cuidados intensivos en un dia particular sea de dos?\n",
            "0.08422433748856832\n",
            "Cual es la probabilidad de que el numero de personas ingresadas a una unidad de cuidados intensivos en un dia particular sea de 10?\n",
            "0.018132788707821854\n"
          ]
        }
      ]
    },
    {
      "cell_type": "markdown",
      "source": [
        "¿es probable que x exceda de 10?\n",
        "*Si calculamos las probabilidades de que existan mas de 10 ingresados estas son de 0.018, las cuales si bien son mas bajas que las de 2 personas, aun se pueden tomar en cuenta, por lo que si puede llegar a ocurrir.*\n",
        "\n"
      ],
      "metadata": {
        "id": "GzwcxLRvM8VY"
      }
    },
    {
      "cell_type": "markdown",
      "source": [
        "###Problema 2\n",
        "\n",
        "Realizar un programa en python que resuelva el siguiente problema\n",
        "\n",
        "Un fabricante de podadoras de pasto compra motores de 1 hp y 2 ciclos, en lotes de 1,000, a un proveedor.\n",
        "\n",
        "El fabricante equipa cada una de las podadoras producidas por su planta con uno de los motores.La historia muestra que la probabilidad de que cualquier motor del proveedor resulte no satisfactorio es de .001\n",
        "\n",
        "**En un Embarque de 1,000 motores,calcular:**\n",
        "\n",
        "*   ¿Cual es la probabilidad de que ninguno sea defectuoso?\n",
        "*   ¿Cual es la probabilidad de que 3 sean defectuosos\n",
        "*   ¿Cual es la probabilidad de que 4 sean defectuosos?\n",
        "\n",
        "\n"
      ],
      "metadata": {
        "id": "u5k0qYbpNn5b"
      }
    },
    {
      "cell_type": "code",
      "source": [
        "from scipy.stats import poisson\n",
        "\n",
        "#Parametros de la distribucion de poisson\n",
        "mediaDefectosos = 1000 * 0.001\n",
        "\n",
        "# Parte 1: Probabilidad de que ninguno sea defectuosos\n",
        "probabilidad0Defectuosos = poisson.pmf(0,mediaDefectosos)\n",
        "\n",
        "print(\"¿Cual es la probabilidad de que ninguno sea defectuoso?\")\n",
        "print(probabilidad0Defectuosos)\n",
        "\n",
        "# Parte 2: Probabilidad de que 3 sean defectuosos\n",
        "probabilidad3Defectuosos = poisson.pmf(3,mediaDefectosos)\n",
        "\n",
        "print(\"¿Cual es la probabilidad de que 3 sean defectuosos?\")\n",
        "print(probabilidad3Defectuosos)\n",
        "\n",
        "# Parte 3: Probabilidad de que 4 sean defectuosos\n",
        "probabilidad4Defectuosos = poisson.pmf(4,mediaDefectosos)\n",
        "\n",
        "print(\"¿Cual es la probabilidad de que 4 sean defectuosos?\")\n",
        "print(probabilidad4Defectuosos)"
      ],
      "metadata": {
        "colab": {
          "base_uri": "https://localhost:8080/"
        },
        "outputId": "751a70d7-d09b-4046-e637-58f1f0896b7a",
        "id": "NfD1l1TlRL8y"
      },
      "execution_count": 5,
      "outputs": [
        {
          "output_type": "stream",
          "name": "stdout",
          "text": [
            "¿Cual es la probabilidad de que ninguno sea defectuoso?\n",
            "0.36787944117144233\n",
            "¿Cual es la probabilidad de que 3 sean defectuosos?\n",
            "0.06131324019524039\n",
            "¿Cual es la probabilidad de que 4 sean defectuosos?\n",
            "0.015328310048810101\n"
          ]
        }
      ]
    }
  ]
}