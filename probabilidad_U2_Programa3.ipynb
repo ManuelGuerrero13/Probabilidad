{
  "nbformat": 4,
  "nbformat_minor": 0,
  "metadata": {
    "colab": {
      "provenance": [],
      "authorship_tag": "ABX9TyNPSPTBH8mIVeCSiNNCqfxa",
      "include_colab_link": true
    },
    "kernelspec": {
      "name": "python3",
      "display_name": "Python 3"
    },
    "language_info": {
      "name": "python"
    }
  },
  "cells": [
    {
      "cell_type": "markdown",
      "metadata": {
        "id": "view-in-github",
        "colab_type": "text"
      },
      "source": [
        "<a href=\"https://colab.research.google.com/github/ManuelGuerrero13/Probabilidad/blob/main/probabilidad_U2_Programa3.ipynb\" target=\"_parent\"><img src=\"https://colab.research.google.com/assets/colab-badge.svg\" alt=\"Open In Colab\"/></a>"
      ]
    },
    {
      "cell_type": "code",
      "execution_count": 1,
      "metadata": {
        "id": "JguT7MwWrNA5"
      },
      "outputs": [],
      "source": [
        "import math as mt\n",
        "from itertools import *\n",
        "import numpy as np"
      ]
    },
    {
      "cell_type": "code",
      "source": [
        "asistentes = [\"Manuel\",\"ALex\",\"Pablo\",\"Maria\",\"Mario\",\"Anna\",\"Melissa\",\"Karla\",\"Flor\",\"Alejandra\"]\n",
        "n = len(asistentes)\n",
        "r = 4\n",
        "\n",
        "Pr = mt.factorial(n) / (mt.factorial(n-r))\n",
        "\n",
        "print(\"Existen\",Pr ,\" posibles selecciones sin repeticion del total de \",\n",
        "n , \" asistentes\", \"en grupos de \", r ,\"en \", r)\n",
        "\n",
        "print(\"aqui las posibles selecciones\")\n",
        "permutaciones_Asistentes = list(permutations(asistentes,r))\n",
        "\n",
        "#se omitio el mostrar las permutaciones porque hacerlo impedia mostrar el mensaje de arriba, el cual era el punto importante del ejercicio"
      ],
      "metadata": {
        "colab": {
          "base_uri": "https://localhost:8080/"
        },
        "id": "hybzO_AMrf-p",
        "outputId": "d826d4ee-5f66-411a-f073-325c54622464"
      },
      "execution_count": 5,
      "outputs": [
        {
          "output_type": "stream",
          "name": "stdout",
          "text": [
            "Existen 5040.0  posibles selecciones sin repeticion del total de  10  asistentes en grupos de  4 en  4\n",
            "aqui las posibles selecciones\n"
          ]
        }
      ]
    }
  ]
}