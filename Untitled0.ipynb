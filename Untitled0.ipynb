{
  "nbformat": 4,
  "nbformat_minor": 0,
  "metadata": {
    "colab": {
      "provenance": [],
      "authorship_tag": "ABX9TyMZZEfRxnaoxTR2pqC24ctE",
      "include_colab_link": true
    },
    "kernelspec": {
      "name": "python3",
      "display_name": "Python 3"
    },
    "language_info": {
      "name": "python"
    }
  },
  "cells": [
    {
      "cell_type": "markdown",
      "metadata": {
        "id": "view-in-github",
        "colab_type": "text"
      },
      "source": [
        "<a href=\"https://colab.research.google.com/github/ManuelGuerrero13/Probabilidad/blob/main/Untitled0.ipynb\" target=\"_parent\"><img src=\"https://colab.research.google.com/assets/colab-badge.svg\" alt=\"Open In Colab\"/></a>"
      ]
    },
    {
      "cell_type": "markdown",
      "source": [
        "#probabilidad y estadistica\n",
        "### alumno: Manuel Guerrero Morales\n",
        "\n",
        "\n",
        "\n"
      ],
      "metadata": {
        "id": "iWL2zmPxU4TZ"
      }
    },
    {
      "cell_type": "markdown",
      "source": [
        "importar libreria \"statistics\""
      ],
      "metadata": {
        "id": "Xx6bQ3gZWA-x"
      }
    },
    {
      "cell_type": "code",
      "source": [
        "from statistics import *;"
      ],
      "metadata": {
        "id": "gwXJQbNPvGHX"
      },
      "execution_count": 2,
      "outputs": []
    },
    {
      "cell_type": "markdown",
      "source": [
        "##Ejemplo 1: Registro de calificaciones de 12 alumnos"
      ],
      "metadata": {
        "id": "Ux_HEvlPZs67"
      }
    },
    {
      "cell_type": "markdown",
      "source": [
        "crear un arreglo de calificaciones de un grupo e imprimirlo"
      ],
      "metadata": {
        "id": "_v0JtfimWG5s"
      }
    },
    {
      "cell_type": "code",
      "source": [
        "grupoa = [70,70,75,100,95,45,80,73,20,96];\n",
        "print(grupoa);"
      ],
      "metadata": {
        "id": "Tp3BZwp5wpkG",
        "colab": {
          "base_uri": "https://localhost:8080/"
        },
        "outputId": "114c18b4-329b-41c9-b0cb-0266d26e8be0"
      },
      "execution_count": 4,
      "outputs": [
        {
          "output_type": "stream",
          "name": "stdout",
          "text": [
            "[70, 70, 75, 100, 95, 45, 80, 73, 20, 96]\n"
          ]
        }
      ]
    },
    {
      "cell_type": "markdown",
      "source": [
        "###Determinar la media del grupo A"
      ],
      "metadata": {
        "id": "9BruP6iNYOoB"
      }
    },
    {
      "cell_type": "code",
      "source": [
        "print(\"el promedio del grupo A es\",mean(grupoa));"
      ],
      "metadata": {
        "colab": {
          "base_uri": "https://localhost:8080/"
        },
        "id": "p4gWonAjWQQf",
        "outputId": "9b2651dd-f956-45e9-f084-b6de79a34330"
      },
      "execution_count": 8,
      "outputs": [
        {
          "output_type": "stream",
          "name": "stdout",
          "text": [
            "el promedio del grupo A es 72.4\n"
          ]
        }
      ]
    },
    {
      "cell_type": "markdown",
      "source": [
        "###determinar la mediana del grupo A"
      ],
      "metadata": {
        "id": "KwKjmc8HYqpt"
      }
    },
    {
      "cell_type": "code",
      "source": [
        "print(\"la mediana del grupo A es\",median(grupoa))"
      ],
      "metadata": {
        "colab": {
          "base_uri": "https://localhost:8080/"
        },
        "id": "McBV-AnXYuJ1",
        "outputId": "44144c36-6ed5-4c6a-8743-20d42d9e13e8"
      },
      "execution_count": 9,
      "outputs": [
        {
          "output_type": "stream",
          "name": "stdout",
          "text": [
            "la mediana del grupo A es 74.0\n"
          ]
        }
      ]
    },
    {
      "cell_type": "markdown",
      "source": [
        "###Determinar la moda del grupo A"
      ],
      "metadata": {
        "id": "Agh7NMdCZRf6"
      }
    },
    {
      "cell_type": "code",
      "source": [
        "print(\"La moda del grupo A es\",mode(grupoa))"
      ],
      "metadata": {
        "colab": {
          "base_uri": "https://localhost:8080/"
        },
        "id": "8jlL-bFrZXMD",
        "outputId": "551aa8f4-2e1a-4ecc-a2a8-92b7a56d0337"
      },
      "execution_count": 10,
      "outputs": [
        {
          "output_type": "stream",
          "name": "stdout",
          "text": [
            "La moda del grupo A es 70\n"
          ]
        }
      ]
    },
    {
      "cell_type": "markdown",
      "source": [
        "##Ejemplo 2: Tiempos de 100 metros de un grupo de alumnos"
      ],
      "metadata": {
        "id": "u4XYKEX_ZoTr"
      }
    },
    {
      "cell_type": "code",
      "source": [
        "tiempos = [15.10,17.20,14.69,13.27,22.15,18.71,19.15,20.65,15.10,17.20];\n",
        "print(tiempos);"
      ],
      "metadata": {
        "colab": {
          "base_uri": "https://localhost:8080/"
        },
        "id": "3dA3nArJaQOL",
        "outputId": "357bbcc9-4628-459a-f71b-04548608db2a"
      },
      "execution_count": 12,
      "outputs": [
        {
          "output_type": "stream",
          "name": "stdout",
          "text": [
            "[15.1, 17.2, 14.69, 13.27, 22.15, 18.71, 19.15, 20.65, 15.1, 17.2]\n"
          ]
        }
      ]
    },
    {
      "cell_type": "markdown",
      "source": [
        "###funcion mean para determinar el promedio"
      ],
      "metadata": {
        "id": "RjLE7OUPfI8z"
      }
    },
    {
      "cell_type": "code",
      "source": [
        "print(\"el promedio de los tiempos es de:\",mean(tiempos));"
      ],
      "metadata": {
        "colab": {
          "base_uri": "https://localhost:8080/"
        },
        "id": "h9NudoHSfQ7z",
        "outputId": "fc1b335b-ae45-45e2-8790-54c8fba6971d"
      },
      "execution_count": 13,
      "outputs": [
        {
          "output_type": "stream",
          "name": "stdout",
          "text": [
            "el promedio de los tiempos es de: 17.322\n"
          ]
        }
      ]
    },
    {
      "cell_type": "markdown",
      "source": [
        "###funcion median para calcular la mediana"
      ],
      "metadata": {
        "id": "m-sX6WVFfdop"
      }
    },
    {
      "cell_type": "code",
      "source": [
        "print(\"la mediana de los tiempos es de\",median(tiempos));"
      ],
      "metadata": {
        "colab": {
          "base_uri": "https://localhost:8080/"
        },
        "id": "oUO5M7Lzfk57",
        "outputId": "d07adc53-ad92-4d56-ad03-4e44589f6d8b"
      },
      "execution_count": 14,
      "outputs": [
        {
          "output_type": "stream",
          "name": "stdout",
          "text": [
            "la mediana de los tiempos es de 17.2\n"
          ]
        }
      ]
    },
    {
      "cell_type": "markdown",
      "source": [
        "funcion mode para calcular la moda"
      ],
      "metadata": {
        "id": "1F52Uc3dfudG"
      }
    },
    {
      "cell_type": "code",
      "source": [
        "print(\"la moda de los tiempos es de\",mode(tiempos));"
      ],
      "metadata": {
        "colab": {
          "base_uri": "https://localhost:8080/"
        },
        "id": "eW44JtDsgn20",
        "outputId": "91e406f3-357a-4955-8879-e51730bbeeb0"
      },
      "execution_count": 15,
      "outputs": [
        {
          "output_type": "stream",
          "name": "stdout",
          "text": [
            "la moda de los tiempos es de 15.1\n"
          ]
        }
      ]
    },
    {
      "cell_type": "markdown",
      "source": [
        "funcion multimode para calcular multiples modas(por ejemplo, en caso de que sea bimodal)"
      ],
      "metadata": {
        "id": "_ab2cjevgvey"
      }
    },
    {
      "cell_type": "code",
      "source": [
        "print(\"las modas de los tiempos son de\",multimode(tiempos));"
      ],
      "metadata": {
        "colab": {
          "base_uri": "https://localhost:8080/"
        },
        "id": "WDgG9jLqg7ER",
        "outputId": "a530250b-5e6f-4107-a51f-cb0efa3b6ce1"
      },
      "execution_count": 16,
      "outputs": [
        {
          "output_type": "stream",
          "name": "stdout",
          "text": [
            "las modas de los tiempos son de [15.1, 17.2]\n"
          ]
        }
      ]
    },
    {
      "cell_type": "markdown",
      "source": [
        "###Ejemplo 3: Histogramas de 2 grupos\n",
        "\n",
        "\n",
        "1.   En este ejemplo generamos 100 numeros aleatorios reales que representa la produccion diaria de 100 telares (medidas en metros)\n",
        "2.   Generar otra lista con la produccion de 100 telares para una segunda fabrica\n",
        "3.   con estas listas de valores se pretende determinar las medidas de tendencia central, es decir, la moda, la media, la mediana y la desviacion estandar\n",
        "4.   graficar un gistograma para cada fabrica\n",
        "\n"
      ],
      "metadata": {
        "id": "tG55ovgmhWig"
      }
    },
    {
      "cell_type": "code",
      "source": [
        "#libreria para generar numeros aleatorios\n",
        "import random"
      ],
      "metadata": {
        "id": "Pl8_zUAIhdm2"
      },
      "execution_count": 17,
      "outputs": []
    },
    {
      "cell_type": "code",
      "source": [
        "fabrica1 = []\n",
        "for i in range(100):\n",
        "    num_Aleatorio = round(random.uniform(50,100),2);\n",
        "    fabrica1.append(num_Aleatorio);\n",
        "print(fabrica1);"
      ],
      "metadata": {
        "colab": {
          "base_uri": "https://localhost:8080/"
        },
        "id": "-Ub-0n9chskL",
        "outputId": "1122d10d-573b-412a-ba59-fb6bc0b8867d"
      },
      "execution_count": 18,
      "outputs": [
        {
          "output_type": "stream",
          "name": "stdout",
          "text": [
            "[85, 61, 98, 80, 59, 77, 67, 53, 66, 93, 81, 67, 55, 71, 69, 99, 57, 72, 74, 52, 70, 68, 56, 92, 53, 96, 64, 56, 52, 68, 59, 59, 87, 96, 60, 88, 54, 59, 88, 92, 84, 65, 52, 83, 66, 57, 70, 98, 81, 100, 99, 98, 90, 85, 79, 82, 59, 62, 81, 98, 69, 60, 55, 54, 73, 70, 54, 72, 68, 72, 85, 57, 83, 59, 83, 51, 60, 60, 53, 98, 58, 52, 61, 51, 55, 68, 55, 66, 62, 63, 67, 68, 92, 87, 59, 56, 76, 69, 91, 73]\n"
          ]
        }
      ]
    },
    {
      "cell_type": "code",
      "source": [
        "fabrica2 = []\n",
        "for i in range(100):\n",
        "    num_Aleatorio = round(random.uniform(50,100),2);\n",
        "    fabrica2.append(num_Aleatorio);\n",
        "print(fabrica2);"
      ],
      "metadata": {
        "colab": {
          "base_uri": "https://localhost:8080/"
        },
        "id": "Q-2XUtWVjZ8m",
        "outputId": "2da087ca-f3d1-4daf-b077-a13d233c1db3"
      },
      "execution_count": 19,
      "outputs": [
        {
          "output_type": "stream",
          "name": "stdout",
          "text": [
            "[56.74, 97.46, 69.88, 51.69, 82.29, 86.74, 82.5, 81.13, 83.74, 65.06, 72.64, 95.67, 62.16, 78.63, 62.24, 71.71, 90.34, 69.88, 57.7, 89.57, 56.01, 71.23, 60.74, 80.86, 54.3, 62.02, 83.74, 50.45, 53.2, 86.82, 50.18, 53.77, 60.75, 85.77, 96.02, 55.21, 88.85, 82.74, 79.04, 67.35, 86.68, 90.87, 95.36, 83.25, 81.7, 53.31, 64.49, 82.58, 90.81, 85.03, 66.1, 76.67, 51.21, 77.39, 64.53, 67.83, 80.57, 78.31, 82.96, 67.83, 64.84, 92.23, 94.76, 55.77, 97.3, 83.07, 72.24, 75.5, 83.16, 53.28, 97.53, 86.48, 88.62, 86.65, 92.16, 79.76, 66.83, 84.86, 61.62, 69.49, 75.32, 71.42, 59.62, 82.89, 99.3, 84.09, 88.55, 87.37, 50.63, 83.48, 82.01, 92.34, 78.68, 64.64, 75.42, 88.01, 71.57, 52.64, 82.09, 90.38]\n"
          ]
        }
      ]
    },
    {
      "cell_type": "code",
      "source": [
        "# libreria de python para graficar valores\n",
        "import matplotlib.pyplot as plt;\n"
      ],
      "metadata": {
        "id": "imbsbqqqjwYY"
      },
      "execution_count": 20,
      "outputs": []
    },
    {
      "cell_type": "code",
      "source": [
        "plt.hist(fabrica1);\n",
        "plt.title(\"produccion de la fabrica 1\");"
      ],
      "metadata": {
        "colab": {
          "base_uri": "https://localhost:8080/",
          "height": 452
        },
        "id": "v4IsUuCvj_V8",
        "outputId": "298dc6b7-1b9e-43e4-d5ac-95d566f79b43"
      },
      "execution_count": 23,
      "outputs": [
        {
          "output_type": "display_data",
          "data": {
            "text/plain": [
              "<Figure size 640x480 with 1 Axes>"
            ],
            "image/png": "[encoded data removed]"
          },
          "metadata": {}
        }
      ]
    },
    {
      "cell_type": "code",
      "source": [
        "plt.hist(fabrica2);\n",
        "plt.title(\"produccion de la fabrica 2\");"
      ],
      "metadata": {
        "colab": {
          "base_uri": "https://localhost:8080/",
          "height": 452
        },
        "id": "MmC4CYEdk3vq",
        "outputId": "b5b249e8-6dc2-4788-ad1c-13498ffa9eca"
      },
      "execution_count": 24,
      "outputs": [
        {
          "output_type": "display_data",
          "data": {
            "text/plain": [
              "<Figure size 640x480 with 1 Axes>"
            ],
            "image/png": "[encoded data removed]"
          },
          "metadata": {}
        }
      ]
    },
    {
      "cell_type": "code",
      "source": [
        "media = mean(fabrica1);\n",
        "mediana = median(fabrica1);\n",
        "moda = mode(fabrica1);\n",
        "\n",
        "print(\"valores de la fabrica 1\");\n",
        "print(\"la media es =\",media);\n",
        "print(\"la mediana es =\",mediana);\n",
        "print(\"la moda es =\",moda);"
      ],
      "metadata": {
        "colab": {
          "base_uri": "https://localhost:8080/"
        },
        "id": "eWhZykRnk_UC",
        "outputId": "bbca27cd-be50-48e0-deed-febc71942e22"
      },
      "execution_count": 25,
      "outputs": [
        {
          "output_type": "stream",
          "name": "stdout",
          "text": [
            "valores de la fabrica 1\n",
            "la media es = 71.07\n",
            "la mediana es = 68.0\n",
            "la moda es = 59\n"
          ]
        }
      ]
    },
    {
      "cell_type": "code",
      "source": [
        "media = mean(fabrica2);\n",
        "mediana = median(fabrica2);\n",
        "moda = mode(fabrica2);\n",
        "\n",
        "print(\"valores de la fabrica 2\");\n",
        "print(\"la media es =\",media);\n",
        "print(\"la mediana es =\",mediana);\n",
        "print(\"la moda es =\",moda);"
      ],
      "metadata": {
        "colab": {
          "base_uri": "https://localhost:8080/"
        },
        "id": "mTkNthWzlcSa",
        "outputId": "4dcc73dc-a418-4299-d36b-8bd60953aa44"
      },
      "execution_count": 26,
      "outputs": [
        {
          "output_type": "stream",
          "name": "stdout",
          "text": [
            "valores de la fabrica 2\n",
            "la media es = 75.609\n",
            "la mediana es = 78.86000000000001\n",
            "la moda es = 69.88\n"
          ]
        }
      ]
    },
    {
      "cell_type": "code",
      "source": [
        "# generar 2 subplot de 1 renglon por 2 columnas para desplegar los 2 histogramas\n",
        "# una al lado de la otra\n",
        "fig,( ax1,ax2) = plt.subplots(nrows =1,ncols=2);"
      ],
      "metadata": {
        "colab": {
          "base_uri": "https://localhost:8080/",
          "height": 435
        },
        "id": "DupM1xoolhmf",
        "outputId": "90bf7533-db50-4087-9621-2b80536eb4ab"
      },
      "execution_count": 27,
      "outputs": [
        {
          "output_type": "display_data",
          "data": {
            "text/plain": [
              "<Figure size 640x480 with 2 Axes>"
            ],
            "image/png": "[encoded data removed]"
          },
          "metadata": {}
        }
      ]
    },
    {
      "cell_type": "code",
      "source": [
        "# generar 2 subplot de 1 renglon por 2 columnas para desplegar los 2 histogramas\n",
        "# una al lado de la otra\n",
        "fig,( ax1,ax2) = plt.subplots(nrows =1,ncols=2, figsize=(10,5));\n",
        "ax1.hist(fabrica1);\n",
        "ax2.hist(fabrica2);\n",
        "plt.show();"
      ],
      "metadata": {
        "colab": {
          "base_uri": "https://localhost:8080/",
          "height": 430
        },
        "id": "eHJXwXyDmrFf",
        "outputId": "18ca8616-d347-4d38-95a6-22007681d0b7"
      },
      "execution_count": 28,
      "outputs": [
        {
          "output_type": "display_data",
          "data": {
            "text/plain": [
              "<Figure size 640x480 with 2 Axes>"
            ],
            "image/png": "[encoded data removed]"
          },
          "metadata": {}
        }
      ]
    },
    {
      "cell_type": "code",
      "source": [
        "#valor minimo, maximo, rango\n",
        "\n",
        "\n",
        "media1 = mean(fabrica1);\n",
        "mediana1 = median(fabrica1);\n",
        "moda1 = mode(fabrica1);"
      ],
      "metadata": {
        "id": "RNE1vKd7nMUK"
      },
      "execution_count": 31,
      "outputs": []
    },
    {
      "cell_type": "code",
      "source": [
        "plt.hist(fabrica1, bins =10, alpha=0.4,color='b',edgecolor = \"black\");\n",
        "plt.axvline(media1, color='b',linestyle='dashed',linewidth=2,label='media');\n",
        "plt.axvline(mediana1, color='r',linestyle='dashed',linewidth=2,label='mediana');\n",
        "plt.axvline(moda1, color='y',linestyle='dashed',linewidth=2,label='moda');\n",
        "plt.xlabel('valor');\n",
        "plt.ylabel('frecuencia');\n",
        "plt.title(\"la produccion diaria de la fabrica 1\");\n",
        "plt.legend()\n",
        "plt.show()"
      ],
      "metadata": {
        "colab": {
          "base_uri": "https://localhost:8080/",
          "height": 472
        },
        "id": "xWQKwJFioc0X",
        "outputId": "1e18499f-daec-4e31-b853-5ac093d82398"
      },
      "execution_count": 34,
      "outputs": [
        {
          "output_type": "display_data",
          "data": {
            "text/plain": [
              "<Figure size 640x480 with 1 Axes>"
            ],
            "image/png": "[encoded data removed]"
          },
          "metadata": {}
        }
      ]
    },
    {
      "cell_type": "code",
      "source": [
        "#valor minimo, maximo, rango\n",
        "\n",
        "\n",
        "media2 = mean(fabrica2);\n",
        "mediana2 = median(fabrica2);\n",
        "moda2 = mode(fabrica2);"
      ],
      "metadata": {
        "id": "fIA9w1rVq5eB"
      },
      "execution_count": 35,
      "outputs": []
    },
    {
      "cell_type": "code",
      "source": [
        "plt.hist(fabrica2, bins =10, alpha=0.4,color='b',edgecolor = \"black\");\n",
        "plt.axvline(media2, color='b',linestyle='dashed',linewidth=2,label='media');\n",
        "plt.axvline(mediana2, color='r',linestyle='dashed',linewidth=2,label='mediana');\n",
        "plt.axvline(moda2, color='y',linestyle='dashed',linewidth=2,label='moda');\n",
        "plt.xlabel('valor');\n",
        "plt.ylabel('frecuencia');\n",
        "plt.title(\"la produccion diaria de la fabrica 2\");\n",
        "plt.legend()\n",
        "plt.show()"
      ],
      "metadata": {
        "colab": {
          "base_uri": "https://localhost:8080/",
          "height": 472
        },
        "id": "ieoBLQULq1L1",
        "outputId": "ccdcc91c-e981-4af9-e47d-a420c03994ef"
      },
      "execution_count": 36,
      "outputs": [
        {
          "output_type": "display_data",
          "data": {
            "text/plain": [
              "<Figure size 640x480 with 1 Axes>"
            ],
            "image/png": "[encoded data removed]"
          },
          "metadata": {}
        }
      ]
    }
  ]
}