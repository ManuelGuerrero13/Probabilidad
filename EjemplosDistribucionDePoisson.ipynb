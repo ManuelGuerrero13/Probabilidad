{
  "nbformat": 4,
  "nbformat_minor": 0,
  "metadata": {
    "colab": {
      "provenance": [],
      "authorship_tag": "ABX9TyPEcsmMcc55dSTKSiirVu1x",
      "include_colab_link": true
    },
    "kernelspec": {
      "name": "python3",
      "display_name": "Python 3"
    },
    "language_info": {
      "name": "python"
    }
  },
  "cells": [
    {
      "cell_type": "markdown",
      "metadata": {
        "id": "view-in-github",
        "colab_type": "text"
      },
      "source": [
        "<a href=\"https://colab.research.google.com/github/ManuelGuerrero13/Probabilidad/blob/main/EjemplosDistribucionDePoisson.ipynb\" target=\"_parent\"><img src=\"https://colab.research.google.com/assets/colab-badge.svg\" alt=\"Open In Colab\"/></a>"
      ]
    },
    {
      "cell_type": "code",
      "execution_count": 1,
      "metadata": {
        "colab": {
          "base_uri": "https://localhost:8080/"
        },
        "id": "xf0LEMpK2Zy7",
        "outputId": "f60294ff-2390-476f-c371-e57b5a0b7e29"
      },
      "outputs": [
        {
          "output_type": "stream",
          "name": "stdout",
          "text": [
            "1. Probabilidad de que no haya accidentes en 1 semana 0.1353352832366127\n",
            "2. Probabilidad de que a lo sumo haya 3 accidentes en 2 semanas 0.43347012036670896\n"
          ]
        }
      ],
      "source": [
        "from scipy.stats import poisson\n",
        "\n",
        "#Parametros de la distribucion de poisson\n",
        "media_accidentes = 2\n",
        "\n",
        "# Parte 1: Probabilidad de que no haya accidentes en 1 semana\n",
        "probabilidad_0_accidentes = poisson.pmf(0,media_accidentes)\n",
        "\n",
        "print(\"1. Probabilidad de que no haya accidentes en 1 semana\",probabilidad_0_accidentes)\n",
        "\n",
        "# Parte 2: Probabilidad de que a lo sumo haya 3 accidentes en 2 semanas\n",
        "# Convertimos la media a una media para 2 semanas\n",
        "media_2_semanas = media_accidentes * 2\n",
        "\n",
        "# Calculamos la probabilidad acumulada hasta 3 accidentes en 2 semanas\n",
        "probabilidad_3_o_menos_accidentes = poisson.cdf(3,media_2_semanas)\n",
        "\n",
        "print(\"2. Probabilidad de que a lo sumo haya 3 accidentes en 2 semanas\", probabilidad_3_o_menos_accidentes)"
      ]
    },
    {
      "cell_type": "code",
      "source": [
        "from scipy.stats import poisson\n",
        "\n",
        "# Parametros de la distribucion de poisson\n",
        "media_muertes = 5000 * 0.001 #5000 hombres con una probabilidad de muerte de 0.001\n",
        "\n",
        "# Numero de reclamaciones\n",
        "x = 4\n",
        "\n",
        "# Calcular la probabilidad de que la compania tenga que pagar 4 reclamaciones\n",
        "probabilidad_4_reclamaciones = poisson.pmf(x,media_muertes)\n",
        "\n",
        "print(\"La probabilidad de que la compania tenga que pagar 4 reclamaciones es de \",probabilidad_4_reclamaciones)\n"
      ],
      "metadata": {
        "colab": {
          "base_uri": "https://localhost:8080/"
        },
        "id": "3SGuJAi_IpcW",
        "outputId": "bf4d26a8-6b91-4813-8682-56b32d2cb366"
      },
      "execution_count": 2,
      "outputs": [
        {
          "output_type": "stream",
          "name": "stdout",
          "text": [
            "La probabilidad de que la compania tenga que pagar 4 reclamaciones es de  0.17546736976785063\n"
          ]
        }
      ]
    }
  ]
}